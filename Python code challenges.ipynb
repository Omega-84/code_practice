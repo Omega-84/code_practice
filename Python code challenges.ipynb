{
 "cells": [
  {
   "cell_type": "markdown",
   "id": "f98fcdf6-1450-4002-b999-d98b4b5ad045",
   "metadata": {},
   "source": [
    "# Find the prime factors of an integer"
   ]
  },
  {
   "cell_type": "code",
   "execution_count": 101,
   "id": "bbae157a-3ea6-49c8-b2ff-c80508eef62b",
   "metadata": {},
   "outputs": [],
   "source": [
    "import numpy as np\n",
    "import math\n",
    "import time"
   ]
  },
  {
   "cell_type": "code",
   "execution_count": 14,
   "id": "5f7cbb41-2882-4e98-8332-494bc14d78b1",
   "metadata": {},
   "outputs": [],
   "source": [
    "def prime_factors(num):\n",
    "    num = int(num)\n",
    "    p = 2\n",
    "    factor_list = []\n",
    "    while num >= p:\n",
    "        if num % p == 0:\n",
    "            factor_list.append(p)\n",
    "            num = num / p\n",
    "        else:\n",
    "            p = p + 1        \n",
    "    return factor_list"
   ]
  },
  {
   "cell_type": "code",
   "execution_count": 15,
   "id": "90553261-e177-44c1-ad78-a34c5df943d8",
   "metadata": {},
   "outputs": [
    {
     "data": {
      "text/plain": [
       "[2, 2, 5, 5]"
      ]
     },
     "execution_count": 15,
     "metadata": {},
     "output_type": "execute_result"
    }
   ],
   "source": [
    "prime_factors(100)"
   ]
  },
  {
   "cell_type": "markdown",
   "id": "3f94bf49-f439-45ce-8d29-b1f2ba910d82",
   "metadata": {
    "tags": []
   },
   "source": [
    "# Identify a palindrome"
   ]
  },
  {
   "cell_type": "markdown",
   "id": "86dd61b7-bd66-490b-ba40-44593ffc545e",
   "metadata": {},
   "source": [
    "### Method 1"
   ]
  },
  {
   "cell_type": "code",
   "execution_count": 33,
   "id": "fc5a335d-4fd5-47b1-a8f5-fac566e2199b",
   "metadata": {},
   "outputs": [],
   "source": [
    "def identify_palindrome_1(string):\n",
    "    \"\"\"\n",
    "    Checks if a given string is a palindrome or not\n",
    "    Arguments : input string\n",
    "    \"\"\"\n",
    "    string = string.lower()\n",
    "    if len(string) == 1:\n",
    "        return True\n",
    "    elif len(string) > 1:\n",
    "        for i in range(0,len(string)):\n",
    "            if string[i] == string[len(string) - (i+1)]:\n",
    "                return True\n",
    "            else: \n",
    "                return False"
   ]
  },
  {
   "cell_type": "code",
   "execution_count": 34,
   "id": "d4915881-38e2-4510-9e68-0b1462a947fe",
   "metadata": {},
   "outputs": [
    {
     "data": {
      "text/plain": [
       "False"
      ]
     },
     "execution_count": 34,
     "metadata": {},
     "output_type": "execute_result"
    }
   ],
   "source": [
    "identify_palindrome_1(\"Hello world\")"
   ]
  },
  {
   "cell_type": "code",
   "execution_count": 35,
   "id": "7e9d2d9e-b186-441a-b9db-8afbe6a8822e",
   "metadata": {},
   "outputs": [],
   "source": [
    "def identify_palindrome_2(string):\n",
    "    \"\"\"\n",
    "    An easier approach to check if a string is palindrome or not\n",
    "    Arguments : input string\n",
    "    \"\"\"\n",
    "    string = string.lower()\n",
    "    if string == string[::-1]:\n",
    "        return True\n",
    "    else:\n",
    "        return False"
   ]
  },
  {
   "cell_type": "code",
   "execution_count": 37,
   "id": "f21fad15-3282-4b5c-8e29-386c69b7636c",
   "metadata": {},
   "outputs": [
    {
     "data": {
      "text/plain": [
       "True"
      ]
     },
     "execution_count": 37,
     "metadata": {},
     "output_type": "execute_result"
    }
   ],
   "source": [
    "identify_palindrome_2(\"Hello olleh\")"
   ]
  },
  {
   "cell_type": "markdown",
   "id": "7236aa64-57dd-490c-8c5b-f65217d7f6f1",
   "metadata": {},
   "source": [
    "# Sort a string"
   ]
  },
  {
   "cell_type": "code",
   "execution_count": 49,
   "id": "c35d1f6c-d47c-41a3-86b8-dcb394931a17",
   "metadata": {},
   "outputs": [],
   "source": [
    "def sort_string(string):\n",
    "    \"\"\"\n",
    "    Sorts the words of a string alphabetically\n",
    "    Arguments : input string\n",
    "    \"\"\"\n",
    "    words = string.split()\n",
    "    words = [w.lower() + w for w in words]\n",
    "    words = sorted(words)\n",
    "    words = [w[len(w)//2:] for w in words]\n",
    "    return \" \".join(words)"
   ]
  },
  {
   "cell_type": "code",
   "execution_count": 52,
   "id": "397a72ae-7e66-4c6a-9fc1-346623fc7114",
   "metadata": {},
   "outputs": [
    {
     "data": {
      "text/plain": [
       "'is my name VARUN'"
      ]
     },
     "execution_count": 52,
     "metadata": {},
     "output_type": "execute_result"
    }
   ],
   "source": [
    "sort_string(\"my name is VARUN\")"
   ]
  },
  {
   "cell_type": "markdown",
   "id": "c8f72576-120d-4df3-9e62-f0f5d120898f",
   "metadata": {},
   "source": [
    "# Find all list items"
   ]
  },
  {
   "cell_type": "code",
   "execution_count": 88,
   "id": "863a1bc0-461f-46ee-a9cb-039b3f854157",
   "metadata": {},
   "outputs": [],
   "source": [
    "def find_list_items(lists,target):\n",
    "    \"\"\"\n",
    "    Returns the indices of target in a given nested list using recursion\n",
    "    Arguments : List, target\n",
    "    \"\"\"\n",
    "    indices = []\n",
    "    for i in range(len(lists)):\n",
    "        if lists[i] == target:\n",
    "            indices.append([i])\n",
    "        elif isinstance(lists[i],list):\n",
    "            for j in find_list_items(lists[i],target):\n",
    "                indices.append([i] +j)\n",
    "    return indices               "
   ]
  },
  {
   "cell_type": "code",
   "execution_count": 89,
   "id": "5bf329ce-2152-4977-a26e-e4f6a76547eb",
   "metadata": {},
   "outputs": [
    {
     "data": {
      "text/plain": [
       "[[0, 0, 1], [1, 0], [2]]"
      ]
     },
     "execution_count": 89,
     "metadata": {},
     "output_type": "execute_result"
    }
   ],
   "source": [
    "find_list_items([[[1,2,4]],[2],2],2)"
   ]
  },
  {
   "cell_type": "markdown",
   "id": "edfe52fa-1db9-45b5-9a0e-07d912505973",
   "metadata": {},
   "source": [
    "# Waiting game"
   ]
  },
  {
   "cell_type": "code",
   "execution_count": 130,
   "id": "7b30f121-edd3-4d1e-af51-df67a28eea28",
   "metadata": {},
   "outputs": [],
   "source": [
    "def waiting_game():\n",
    "    \"\"\"\n",
    "    Waiting game\n",
    "    \"\"\"\n",
    "    waiting_time = np.random.randint(2,4)\n",
    "    print(f\"Your target time is {waiting_time} seconds.\")\n",
    "    \n",
    "    input(\"---Press Enter to Begin---\")\n",
    "    start = time.perf_counter()\n",
    "    \n",
    "    input(f\"---Press Enter again after {waiting_time} seconds---\")\n",
    "    total = time.perf_counter() - start\n",
    "    \n",
    "    print(f\"Time taken : {round(total,3)} seconds \")\n",
    "    \n",
    "    if abs(total-waiting_time) < 1e-1:\n",
    "        print(\"Very close, try again\")\n",
    "    elif abs(total-waiting_time) > 1e-1:\n",
    "        print(\"Not even close old man\")"
   ]
  },
  {
   "cell_type": "code",
   "execution_count": 131,
   "id": "8fede761-da7b-47d9-abc3-1d5e364dba10",
   "metadata": {},
   "outputs": [
    {
     "name": "stdout",
     "output_type": "stream",
     "text": [
      "Your target time is 3 seconds.\n"
     ]
    },
    {
     "name": "stdin",
     "output_type": "stream",
     "text": [
      "---Press Enter to Begin--- \n",
      "---Press Enter again after 3 seconds--- \n"
     ]
    },
    {
     "name": "stdout",
     "output_type": "stream",
     "text": [
      "Time taken : 3.493 seconds \n",
      "Not even close old man\n"
     ]
    }
   ],
   "source": [
    "waiting_game()"
   ]
  },
  {
   "cell_type": "markdown",
   "id": "436b5e59-6806-4ea4-aee9-aef628516430",
   "metadata": {},
   "source": [
    "# Save a dictionary"
   ]
  },
  {
   "cell_type": "code",
   "execution_count": 132,
   "id": "8589dd26-6201-41db-908d-7b4bc1cb39a0",
   "metadata": {},
   "outputs": [],
   "source": [
    "import pickle"
   ]
  },
  {
   "cell_type": "code",
   "execution_count": 133,
   "id": "abdf28ac-4f71-4672-8691-c4b631c03d40",
   "metadata": {},
   "outputs": [],
   "source": [
    "def save_dict(dict_object,path):\n",
    "    with open(path,'wb') as file:\n",
    "        pickle.dump(dict_object,file)"
   ]
  },
  {
   "cell_type": "code",
   "execution_count": 134,
   "id": "e65b32e3-51ab-4580-a6d1-91af71494857",
   "metadata": {},
   "outputs": [],
   "source": [
    "def load_dict(path):\n",
    "    with open(path,'rb') as file:\n",
    "        pickle.load(dict_object)"
   ]
  },
  {
   "cell_type": "markdown",
   "id": "df0bc10f-3881-4da6-9ece-9f69ad493e6a",
   "metadata": {},
   "source": [
    "# Send an email"
   ]
  },
  {
   "cell_type": "code",
   "execution_count": 135,
   "id": "747b78cb-79b5-4987-a051-7159659b80b9",
   "metadata": {},
   "outputs": [],
   "source": [
    "import smtplib"
   ]
  },
  {
   "cell_type": "code",
   "execution_count": 136,
   "id": "d9e91586-25c3-44c3-929d-11e3b3f5e9bc",
   "metadata": {},
   "outputs": [],
   "source": [
    "sender_email = 'varunatwork09@gmail.com'\n",
    "sender_password = 'nishu@2301'"
   ]
  },
  {
   "cell_type": "code",
   "execution_count": 137,
   "id": "4205951a-a324-43b2-a46d-ca68e48b659f",
   "metadata": {},
   "outputs": [],
   "source": [
    "def send_mail(receiver_email,body,subject):\n",
    "    \"\"\"\n",
    "    Send an email through the gmail server host\n",
    "    \"\"\"\n",
    "    message = f'Subject: {subject} \\n\\n {body}'\n",
    "    with smtplib.SMTP_SSL('smtp.gmail.com',465) as server:\n",
    "        server.login(sender_email,sender_password)\n",
    "        server.sendmail(sender_email,receiver_email,message)"
   ]
  },
  {
   "cell_type": "code",
   "execution_count": 138,
   "id": "882ca672-fc2e-4a64-ac71-62b657259c35",
   "metadata": {},
   "outputs": [],
   "source": [
    "send_mail('nayyar.varun84@gmail.com','Hi, This is sent through Python','Test Mail')"
   ]
  }
 ],
 "metadata": {
  "kernelspec": {
   "display_name": "Python 3 (ipykernel)",
   "language": "python",
   "name": "python3"
  },
  "language_info": {
   "codemirror_mode": {
    "name": "ipython",
    "version": 3
   },
   "file_extension": ".py",
   "mimetype": "text/x-python",
   "name": "python",
   "nbconvert_exporter": "python",
   "pygments_lexer": "ipython3",
   "version": "3.8.12"
  }
 },
 "nbformat": 4,
 "nbformat_minor": 5
}
