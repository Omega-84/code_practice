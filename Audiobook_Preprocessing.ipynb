{
 "cells": [
  {
   "cell_type": "code",
   "execution_count": 1,
   "id": "26f1cf50-7c31-4de4-bc5c-beb5266b1984",
   "metadata": {},
   "outputs": [],
   "source": [
    "import numpy as np\n",
    "import pandas as pd\n",
    "from sklearn import preprocessing"
   ]
  },
  {
   "cell_type": "code",
   "execution_count": 2,
   "id": "8b90a312-d1e9-4dd0-8bec-c62aba7e6423",
   "metadata": {},
   "outputs": [],
   "source": [
    "data = np.loadtxt('Audiobooks_data.csv',delimiter=',')"
   ]
  },
  {
   "cell_type": "code",
   "execution_count": 3,
   "id": "65e35cd6-963e-4784-98c9-42450c6842a1",
   "metadata": {},
   "outputs": [],
   "source": [
    "unscaled_input = data[:,1:-1]\n",
    "targets = data[:,-1]"
   ]
  },
  {
   "cell_type": "code",
   "execution_count": 4,
   "id": "ce4054ba-2d26-43de-8f7d-fd41d7640651",
   "metadata": {},
   "outputs": [],
   "source": [
    "num_one_targets = int(np.sum(targets))\n",
    "zero_targets_counter = 0\n",
    "indices_to_remove =[]"
   ]
  },
  {
   "cell_type": "code",
   "execution_count": 5,
   "id": "a4d29004-8008-453f-b43f-d364c2467170",
   "metadata": {},
   "outputs": [],
   "source": [
    "for i in range(len(targets)):\n",
    "    if targets[i] == 0:\n",
    "        zero_targets_counter += 1\n",
    "        if zero_targets_counter > num_one_targets:\n",
    "            indices_to_remove.append(i)"
   ]
  },
  {
   "cell_type": "code",
   "execution_count": 6,
   "id": "207929ac-fd6e-4e4d-a0d0-97f1ed7e920f",
   "metadata": {},
   "outputs": [],
   "source": [
    "equal_unscaled_inputs = np.delete(unscaled_input,indices_to_remove,axis=0)\n",
    "equal_targets = np.delete(targets,indices_to_remove,axis=0)"
   ]
  },
  {
   "cell_type": "code",
   "execution_count": 8,
   "id": "b5d2ee65-6db3-49c4-bd17-2d0a3f589270",
   "metadata": {},
   "outputs": [],
   "source": [
    "scaled_inputs = preprocessing.scale(equal_unscaled_inputs)"
   ]
  },
  {
   "cell_type": "code",
   "execution_count": 10,
   "id": "dbbac3e3-8973-4fbc-a31d-4e3642f15bac",
   "metadata": {},
   "outputs": [],
   "source": [
    "shuffled_indices = np.arange(scaled_inputs.shape[0])\n",
    "np.random.shuffle(shuffled_indices)"
   ]
  },
  {
   "cell_type": "code",
   "execution_count": 11,
   "id": "8e6c27f8-bed7-4318-b40b-fa1f0428b93b",
   "metadata": {},
   "outputs": [],
   "source": [
    "shuffled_inputs = scaled_inputs[shuffled_indices]\n",
    "shuffled_targets = equal_targets[shuffled_indices]"
   ]
  },
  {
   "cell_type": "code",
   "execution_count": 12,
   "id": "6665ae0a-2425-47ef-bb5d-d61ed08bcd51",
   "metadata": {},
   "outputs": [],
   "source": [
    "total_samples = shuffled_inputs.shape[0]\n",
    "\n",
    "train_count = int(0.8*total_samples)\n",
    "validation_count = int(0.1*total_samples)\n",
    "test_count = total_samples - train_count - validation_count"
   ]
  },
  {
   "cell_type": "code",
   "execution_count": 13,
   "id": "a9043865-fa6a-4b28-97d6-0b45cc52e969",
   "metadata": {},
   "outputs": [],
   "source": [
    "train_inputs = shuffled_inputs[:train_count]\n",
    "train_targets = shuffled_targets[:train_count]\n",
    "\n",
    "valid_input = shuffled_inputs[train_count : train_count + validation_count]\n",
    "valid_targets = shuffled_targets[train_count : train_count + validation_count]\n",
    "\n",
    "test_input = shuffled_inputs[train_count + validation_count:]\n",
    "test_targets = shuffled_targets[train_count + validation_count:]                                "
   ]
  },
  {
   "cell_type": "code",
   "execution_count": 14,
   "id": "abe8f56c-070b-46aa-9a9b-d215b16c20e3",
   "metadata": {},
   "outputs": [],
   "source": [
    "np.savez('Audiobooks_train',inputs = train_inputs,targets = train_targets)\n",
    "np.savez('Audiobooks_validation',inputs = valid_input,targets = valid_targets)\n",
    "np.savez('Audiobooks_test',inputs = test_input,targets = test_targets)"
   ]
  }
 ],
 "metadata": {
  "kernelspec": {
   "display_name": "Python 3",
   "language": "python",
   "name": "python3"
  },
  "language_info": {
   "codemirror_mode": {
    "name": "ipython",
    "version": 3
   },
   "file_extension": ".py",
   "mimetype": "text/x-python",
   "name": "python",
   "nbconvert_exporter": "python",
   "pygments_lexer": "ipython3",
   "version": "3.8.8"
  }
 },
 "nbformat": 4,
 "nbformat_minor": 5
}
