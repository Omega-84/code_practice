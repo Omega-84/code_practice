{
 "cells": [
  {
   "cell_type": "markdown",
   "id": "dc3d77d6-31fb-4a44-970e-9ba27284a880",
   "metadata": {},
   "source": [
    "# Ch 8"
   ]
  },
  {
   "cell_type": "markdown",
   "id": "bf5151b9-45e2-427c-8f01-5c5f937d4360",
   "metadata": {},
   "source": [
    "8.5"
   ]
  },
  {
   "cell_type": "code",
   "execution_count": 1,
   "id": "7f4c1e5f-ec3d-4b86-8a02-d82d76be6720",
   "metadata": {},
   "outputs": [
    {
     "data": {
      "text/plain": [
       "99"
      ]
     },
     "execution_count": 1,
     "metadata": {},
     "output_type": "execute_result"
    }
   ],
   "source": [
    "ord('c')"
   ]
  },
  {
   "cell_type": "code",
   "execution_count": 8,
   "id": "93022784-bd83-4643-a56c-f0184cb3fec7",
   "metadata": {},
   "outputs": [],
   "source": [
    "def rotate_word(string,n):\n",
    "    letters = [] \n",
    "    for i in string:\n",
    "        letters.append(chr(ord(i)+n))\n",
    "    new_str = \"\".join(letters)    \n",
    "    return new_str"
   ]
  },
  {
   "cell_type": "code",
   "execution_count": 11,
   "id": "522986d4-4cae-4803-99da-590dabe4b5c6",
   "metadata": {},
   "outputs": [
    {
     "data": {
      "text/plain": [
       "'`ab'"
      ]
     },
     "execution_count": 11,
     "metadata": {},
     "output_type": "execute_result"
    }
   ],
   "source": [
    "rotate_word('abc',-1)"
   ]
  },
  {
   "cell_type": "code",
   "execution_count": null,
   "id": "4c3fdeb1-e372-4d5f-aed7-1ab54e464428",
   "metadata": {},
   "outputs": [],
   "source": []
  }
 ],
 "metadata": {
  "kernelspec": {
   "display_name": "Python 3 (ipykernel)",
   "language": "python",
   "name": "python3"
  },
  "language_info": {
   "codemirror_mode": {
    "name": "ipython",
    "version": 3
   },
   "file_extension": ".py",
   "mimetype": "text/x-python",
   "name": "python",
   "nbconvert_exporter": "python",
   "pygments_lexer": "ipython3",
   "version": "3.9.6"
  }
 },
 "nbformat": 4,
 "nbformat_minor": 5
}
