{
 "cells": [
  {
   "cell_type": "code",
   "execution_count": 1,
   "id": "500c8865-648c-4bde-80f5-acbea3da3f11",
   "metadata": {},
   "outputs": [],
   "source": [
    "import numpy as np\n",
    "import matplotlib.pyplot as plt\n",
    "from mpl_toolkits.mplot3d import Axes3D"
   ]
  },
  {
   "cell_type": "code",
   "execution_count": 2,
   "id": "52e9915f-c0e8-4807-b82f-b0e3ecb8ced4",
   "metadata": {},
   "outputs": [],
   "source": [
    "num_obs = 100\n",
    "f_1 = np.random.uniform(-20,20,(num_obs,1))\n",
    "f_2 = np.random.uniform(-20,20,(num_obs,1))\n",
    "input_data = np.column_stack((f_1,f_2))"
   ]
  },
  {
   "cell_type": "code",
   "execution_count": 3,
   "id": "4f32e89b-09de-41fc-b92a-30ff6639b220",
   "metadata": {},
   "outputs": [],
   "source": [
    "noise = np.random.uniform(-2.5,2.5,(num_obs,1))\n",
    "targets = 4*f_1 + 3.5*f_2 + 5 - noise"
   ]
  },
  {
   "cell_type": "code",
   "execution_count": 4,
   "id": "d09ed869-7498-4789-a5e1-152bf3888054",
   "metadata": {},
   "outputs": [],
   "source": [
    "init_range = 0.1\n",
    "weights = np.random.uniform(low=-init_range, high=init_range, size=(2, 1))\n",
    "biases = np.random.uniform(low=-init_range, high=init_range, size=1)"
   ]
  },
  {
   "cell_type": "code",
   "execution_count": 9,
   "id": "af61d564-bbcb-43ce-a17b-62ed364b4a5c",
   "metadata": {},
   "outputs": [],
   "source": [
    "learning_rate = 0.01\n",
    "for i in range (100):\n",
    "    \n",
    "    outputs = np.dot(input_data,weights) + biases\n",
    "    deltas = outputs - targets\n",
    "    loss = np.sum(deltas ** 2) / 2 / num_obs\n",
    "    deltas_scaled = deltas / num_obs\n",
    "    weights = weights - learning_rate * np.dot(input_data.T,deltas_scaled)\n",
    "    biases = biases - learning_rate * np.sum(deltas_scaled)"
   ]
  },
  {
   "cell_type": "code",
   "execution_count": 10,
   "id": "7690409d-3f3e-46c3-bcd5-13f694c49473",
   "metadata": {},
   "outputs": [
    {
     "name": "stdout",
     "output_type": "stream",
     "text": [
      "[[3.99724147]\n",
      " [3.49503284]] [4.83726834]\n"
     ]
    }
   ],
   "source": [
    "print (weights, biases)"
   ]
  },
  {
   "cell_type": "code",
   "execution_count": 11,
   "id": "5d0647fe-6cfc-47b9-b34b-b1e8ff2cfe09",
   "metadata": {},
   "outputs": [
    {
     "data": {
      "image/png": "[encoded data removed]",
      "text/plain": [
       "<Figure size 432x288 with 1 Axes>"
      ]
     },
     "metadata": {
      "needs_background": "light"
     },
     "output_type": "display_data"
    }
   ],
   "source": [
    "plt.plot(outputs,targets)\n",
    "plt.xlabel('outputs')\n",
    "plt.ylabel('targets')\n",
    "plt.show()"
   ]
  }
 ],
 "metadata": {
  "kernelspec": {
   "display_name": "Python 3 (ipykernel)",
   "language": "python",
   "name": "python3"
  },
  "language_info": {
   "codemirror_mode": {
    "name": "ipython",
    "version": 3
   },
   "file_extension": ".py",
   "mimetype": "text/x-python",
   "name": "python",
   "nbconvert_exporter": "python",
   "pygments_lexer": "ipython3",
   "version": "3.9.7"
  }
 },
 "nbformat": 4,
 "nbformat_minor": 5
}
