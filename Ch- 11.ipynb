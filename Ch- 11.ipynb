{
 "cells": [
  {
   "cell_type": "code",
   "execution_count": 2,
   "id": "8d5e1b8f-faa1-4948-a176-854a7d4d093d",
   "metadata": {},
   "outputs": [],
   "source": [
    "word_dict = {}\n",
    "for i in open('words.txt'):\n",
    "    word = i.strip()\n",
    "    word_dict[word]=len(word)"
   ]
  },
  {
   "cell_type": "code",
   "execution_count": 3,
   "id": "f8cd6e3a-7851-428b-9f38-02565767bd63",
   "metadata": {},
   "outputs": [
    {
     "data": {
      "text/plain": [
       "113783"
      ]
     },
     "execution_count": 3,
     "metadata": {},
     "output_type": "execute_result"
    }
   ],
   "source": [
    "len(word_dict)"
   ]
  },
  {
   "cell_type": "markdown",
   "id": "a41b6491-1771-453b-be71-d7d26b6cd889",
   "metadata": {},
   "source": [
    "## Q2"
   ]
  },
  {
   "cell_type": "code",
   "execution_count": 4,
   "id": "06e7d551-7f25-46ef-84bf-f2e1efa3b449",
   "metadata": {},
   "outputs": [],
   "source": [
    "def invert_dict(d):\n",
    "    inverted = dict()\n",
    "    for key in d:\n",
    "        val = d[key]\n",
    "        inverted.setdefault(val,[]).append(key)\n",
    "    return inverted\n",
    "    "
   ]
  },
  {
   "cell_type": "code",
   "execution_count": 5,
   "id": "a30c678b-1555-4aba-8d11-5881fd508374",
   "metadata": {},
   "outputs": [
    {
     "name": "stdout",
     "output_type": "stream",
     "text": [
      "44.5 ms ± 1.98 ms per loop (mean ± std. dev. of 7 runs, 10 loops each)\n"
     ]
    }
   ],
   "source": [
    "%timeit invert_dict(word_dict)"
   ]
  },
  {
   "cell_type": "markdown",
   "id": "20ca6663-77d2-4073-a7ea-882163f3ac46",
   "metadata": {},
   "source": [
    "## Q3"
   ]
  },
  {
   "cell_type": "code",
   "execution_count": 6,
   "id": "e39d3e8c-9551-4705-a162-dadea045634a",
   "metadata": {},
   "outputs": [],
   "source": [
    "def ackermann(m, n):\n",
    "    \"\"\"Computes the Ackermann function A(m, n)\n",
    "    See http://en.wikipedia.org/wiki/Ackermann_function\n",
    "    n, m: non-negative integers\n",
    "    \"\"\"\n",
    "    if m == 0:\n",
    "        return n+1\n",
    "    if n == 0:\n",
    "        return ackermann(m-1, 1)\n",
    "    return ackermann(m-1, ackermann(m, n-1))"
   ]
  },
  {
   "cell_type": "code",
   "execution_count": 7,
   "id": "01ed5d3f-c447-4221-b159-38383707ed8e",
   "metadata": {},
   "outputs": [
    {
     "data": {
      "text/plain": [
       "3"
      ]
     },
     "execution_count": 7,
     "metadata": {},
     "output_type": "execute_result"
    }
   ],
   "source": [
    "ackermann(1,1)"
   ]
  },
  {
   "cell_type": "markdown",
   "id": "ced54e81-adab-40b1-aa16-62defe09f95c",
   "metadata": {},
   "source": [
    "## Q4"
   ]
  },
  {
   "cell_type": "code",
   "execution_count": 8,
   "id": "db110e1f-610f-41e7-b77e-3b0eb7479443",
   "metadata": {},
   "outputs": [],
   "source": [
    "def has_duplicates(s):\n",
    "    \"\"\"Returns True if any element appears more than once in a sequence.\n",
    "    s: string or list\n",
    "    returns: bool\n",
    "    \"\"\"\n",
    "    # make a copy of t to avoid modifying the parameter\n",
    "    t = list(s)\n",
    "    t.sort()\n",
    "\n",
    "    # check for adjacent elements that are equal\n",
    "    for i in range(len(t)-1):\n",
    "        if t[i] == t[i+1]:\n",
    "            return True\n",
    "    return False"
   ]
  },
  {
   "cell_type": "code",
   "execution_count": 14,
   "id": "de437bf3-eeb8-47f3-aed1-c3be20bea0c9",
   "metadata": {},
   "outputs": [],
   "source": [
    "def faster_has_duplicates(s):\n",
    "    t = list(s)\n",
    "    dictt = dict()\n",
    "    for i in t:\n",
    "        print(i)\n",
    "        if i in dictt:\n",
    "            return True\n",
    "        dictt[i] = True\n",
    "        print(dictt)\n",
    "    return False       "
   ]
  },
  {
   "cell_type": "code",
   "execution_count": 16,
   "id": "e51ecd09-ea10-4bb2-a3ac-9a34c28aba46",
   "metadata": {},
   "outputs": [
    {
     "name": "stdout",
     "output_type": "stream",
     "text": [
      "aa\n",
      "{'aa': True}\n",
      "bb\n",
      "{'aa': True, 'bb': True}\n",
      "cc\n",
      "{'aa': True, 'bb': True, 'cc': True}\n",
      "aa\n"
     ]
    },
    {
     "data": {
      "text/plain": [
       "True"
      ]
     },
     "execution_count": 16,
     "metadata": {},
     "output_type": "execute_result"
    }
   ],
   "source": [
    "faster_has_duplicates(['aa','bb','cc','aa'])"
   ]
  },
  {
   "cell_type": "markdown",
   "id": "8a01f535-a03c-4680-b1db-a601c306056a",
   "metadata": {},
   "source": [
    "## Q5"
   ]
  },
  {
   "cell_type": "code",
   "execution_count": null,
   "id": "d6cc0673-6a50-4f00-8021-59e21d5fcab4",
   "metadata": {},
   "outputs": [],
   "source": [
    "def rotate_pairs(t):\n",
    "    d = dict()\n",
    "    for i in t:\n",
    "        "
   ]
  }
 ],
 "metadata": {
  "kernelspec": {
   "display_name": "Python 3 (ipykernel)",
   "language": "python",
   "name": "python3"
  },
  "language_info": {
   "codemirror_mode": {
    "name": "ipython",
    "version": 3
   },
   "file_extension": ".py",
   "mimetype": "text/x-python",
   "name": "python",
   "nbconvert_exporter": "python",
   "pygments_lexer": "ipython3",
   "version": "3.9.6"
  }
 },
 "nbformat": 4,
 "nbformat_minor": 5
}
