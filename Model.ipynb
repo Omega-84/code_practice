{
 "cells": [
  {
   "cell_type": "code",
   "execution_count": 1,
   "id": "ac4c6a1c-ff0a-4ce2-9d4b-35babc6688f1",
   "metadata": {},
   "outputs": [],
   "source": [
    "import numpy as np\n",
    "import tensorflow as tf"
   ]
  },
  {
   "cell_type": "code",
   "execution_count": 2,
   "id": "807885f1-e538-46f7-99e7-38cdb4a87e2b",
   "metadata": {},
   "outputs": [],
   "source": [
    "import warnings\n",
    "warnings.filterwarnings('ignore')"
   ]
  },
  {
   "cell_type": "code",
   "execution_count": 3,
   "id": "591ac14b-2679-4e76-9324-779b6fa1595d",
   "metadata": {},
   "outputs": [],
   "source": [
    "tr = np.load('Audiobooks_train.npz')\n",
    "vl = np.load('Audiobooks_validation.npz')\n",
    "tt = np.load('Audiobooks_test.npz')\n",
    "\n",
    "train_inputs , train_targets = tr['inputs'].astype(np.float), tr['targets'].astype(np.int)\n",
    "validation_inputs , validation_targets = vl['inputs'].astype(np.float), vl['targets'].astype(np.int)\n",
    "test_inputs , test_targets = tt['inputs'].astype(np.float),tt['targets'].astype(np.int)"
   ]
  },
  {
   "cell_type": "code",
   "execution_count": 45,
   "id": "04b75537-1547-4dff-afbe-95740fd8651f",
   "metadata": {},
   "outputs": [],
   "source": [
    "input_size = 10\n",
    "output_size = 1\n",
    "hidden_size = 150\n",
    "model = tf.keras.Sequential([\n",
    "                             tf.keras.layers.Dense(hidden_size,'relu'),\n",
    "                             tf.keras.layers.Dense(hidden_size,'relu'),\n",
    "                             tf.keras.layers.Dense(hidden_size,'relu'),\n",
    "                             tf.keras.layers.Dense(hidden_size,'relu'),\n",
    "                             tf.keras.layers.Dense(hidden_size,'relu'),\n",
    "                             tf.keras.layers.Dense(hidden_size,'relu'),                             \n",
    "                             tf.keras.layers.Dense(output_size,'sigmoid')\n",
    "                            ])\n",
    "model.compile(optimizer='adam',loss='binary_crossentropy',metrics=['accuracy'])\n",
    "\n",
    "batch_size = max_epochs = 100\n",
    "early_stopping = tf.keras.callbacks.EarlyStopping(patience = 2)"
   ]
  },
  {
   "cell_type": "code",
   "execution_count": 46,
   "id": "ac9a1400-7d26-4c95-a526-4c976671ef8c",
   "metadata": {},
   "outputs": [
    {
     "name": "stdout",
     "output_type": "stream",
     "text": [
      "Epoch 1/100\n",
      "36/36 - 0s - loss: 0.4864 - accuracy: 0.7516 - val_loss: 0.3729 - val_accuracy: 0.7696\n",
      "Epoch 2/100\n",
      "36/36 - 0s - loss: 0.3712 - accuracy: 0.7977 - val_loss: 0.3667 - val_accuracy: 0.7852\n",
      "Epoch 3/100\n",
      "36/36 - 0s - loss: 0.3490 - accuracy: 0.8114 - val_loss: 0.3476 - val_accuracy: 0.8098\n",
      "Epoch 4/100\n",
      "36/36 - 0s - loss: 0.3476 - accuracy: 0.8134 - val_loss: 0.3256 - val_accuracy: 0.8412\n",
      "Epoch 5/100\n",
      "36/36 - 0s - loss: 0.3517 - accuracy: 0.8128 - val_loss: 0.3611 - val_accuracy: 0.7808\n",
      "Epoch 6/100\n",
      "36/36 - 0s - loss: 0.3483 - accuracy: 0.7985 - val_loss: 0.3419 - val_accuracy: 0.7897\n"
     ]
    },
    {
     "data": {
      "text/plain": [
       "<tensorflow.python.keras.callbacks.History at 0x1e1cf20ac10>"
      ]
     },
     "execution_count": 46,
     "metadata": {},
     "output_type": "execute_result"
    }
   ],
   "source": [
    "model.fit(train_inputs,\n",
    "          train_targets,\n",
    "          batch_size = batch_size,\n",
    "          epochs = max_epochs,\n",
    "          validation_data = (validation_inputs,validation_targets),\n",
    "          verbose = 2,\n",
    "          callbacks = [early_stopping]\n",
    "         )"
   ]
  },
  {
   "cell_type": "code",
   "execution_count": 47,
   "id": "2a39e16c-e005-48d9-9269-00807cd09687",
   "metadata": {},
   "outputs": [
    {
     "name": "stdout",
     "output_type": "stream",
     "text": [
      "Loss = 0.34 \n",
      "Accuracy = 80.8 %\n"
     ]
    }
   ],
   "source": [
    "test_loss,test_accuracy = model.evaluate(test_inputs,test_targets,verbose=0)\n",
    "print(f\"Loss = {round(test_loss,2)} \\nAccuracy = {round(test_accuracy*100,2)} %\")"
   ]
  }
 ],
 "metadata": {
  "kernelspec": {
   "display_name": "Python 3 (ipykernel)",
   "language": "python",
   "name": "python3"
  },
  "language_info": {
   "codemirror_mode": {
    "name": "ipython",
    "version": 3
   },
   "file_extension": ".py",
   "mimetype": "text/x-python",
   "name": "python",
   "nbconvert_exporter": "python",
   "pygments_lexer": "ipython3",
   "version": "3.8.12"
  }
 },
 "nbformat": 4,
 "nbformat_minor": 5
}
