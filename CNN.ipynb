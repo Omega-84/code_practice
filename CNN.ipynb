{
 "cells": [
  {
   "cell_type": "code",
   "execution_count": 37,
   "id": "333d375d-6cc1-412e-9364-1244363b83df",
   "metadata": {},
   "outputs": [],
   "source": [
    "import tensorflow as tf\n",
    "import tensorflow_datasets as tfds"
   ]
  },
  {
   "cell_type": "code",
   "execution_count": 38,
   "id": "865e702d-db04-4b4a-bf3c-8f40487191db",
   "metadata": {},
   "outputs": [],
   "source": [
    "mnist_dataset, mnist_info = tfds.load(name='mnist', with_info=True, as_supervised=True)"
   ]
  },
  {
   "cell_type": "code",
   "execution_count": 7,
   "id": "e079a83b-fabe-4245-898b-7c7df6e01b28",
   "metadata": {},
   "outputs": [],
   "source": [
    "buffer_size = 70000\n",
    "batch_size = 128\n",
    "num_epochs = 20"
   ]
  },
  {
   "cell_type": "code",
   "execution_count": 8,
   "id": "3cab206c-afd9-4808-afe9-033786fd7405",
   "metadata": {},
   "outputs": [],
   "source": [
    "mnist_train,mnist_test = mnist_dataset['train'],mnist_dataset['test']"
   ]
  },
  {
   "cell_type": "code",
   "execution_count": 9,
   "id": "cc7deeef-ba6a-44e1-a3b8-16bde14f11cb",
   "metadata": {},
   "outputs": [],
   "source": [
    "def scaler(image,label):\n",
    "    image = tf.cast(image,tf.float32)\n",
    "    image /= 255.\n",
    "    return image,label"
   ]
  },
  {
   "cell_type": "code",
   "execution_count": 10,
   "id": "a9c0f7e9-98c2-4277-b0b8-7b3746453102",
   "metadata": {},
   "outputs": [],
   "source": [
    "scaled_train_val = mnist_train.map(scaler)\n",
    "scaled_test = mnist_test.map(scaler)"
   ]
  },
  {
   "cell_type": "code",
   "execution_count": 12,
   "id": "de1d20d0-232f-4e40-8725-11ce3bd7a9f3",
   "metadata": {},
   "outputs": [],
   "source": [
    "num_val_samples = 0.1 * mnist_info.splits['train'].num_examples\n",
    "num_val_samples = tf.cast(num_val_samples,tf.int64)\n",
    "num_test_samples = mnist_info.splits['test'].num_examples\n",
    "num_test_samples = tf.cast(num_test_samples,tf.int64)"
   ]
  },
  {
   "cell_type": "code",
   "execution_count": 13,
   "id": "e15d9860-1b3d-46a6-ac30-4a60cfdb5792",
   "metadata": {},
   "outputs": [],
   "source": [
    "shuffled_train = scaled_train_val.shuffle(buffer_size)\n",
    "validation_data = scaled_train_val.take(num_val_samples)\n",
    "train_data = scaled_train_val.skip(num_val_samples)\n",
    "train_data = train_data.batch(batch_size)\n",
    "validation_data = validation_data.batch(num_val_samples)"
   ]
  },
  {
   "cell_type": "code",
   "execution_count": 25,
   "id": "4e2eb229-8c7f-4642-a721-b5a4652b9176",
   "metadata": {},
   "outputs": [],
   "source": [
    "test_data = scaled_test.batch(num_test_samples)"
   ]
  },
  {
   "cell_type": "code",
   "execution_count": 18,
   "id": "0a048fda-d1db-47f9-a92f-a1d663afd353",
   "metadata": {},
   "outputs": [],
   "source": [
    "con_model = tf.keras.Sequential([\n",
    "                                 tf.keras.layers.Conv2D(50,5,activation='relu',input_shape=(28,28,1)),\n",
    "                                 tf.keras.layers.MaxPooling2D(),\n",
    "                                 tf.keras.layers.Conv2D(50,3,activation='relu'),\n",
    "                                 tf.keras.layers.MaxPooling2D(),\n",
    "                                 tf.keras.layers.Flatten(),\n",
    "                                 tf.keras.layers.Dense(10)\n",
    "                                ])"
   ]
  },
  {
   "cell_type": "code",
   "execution_count": 19,
   "id": "3ba9c116-2783-423d-9e17-e35e14572712",
   "metadata": {},
   "outputs": [
    {
     "name": "stdout",
     "output_type": "stream",
     "text": [
      "Model: \"sequential_1\"\n",
      "___________________________________________________________________________\n",
      " Layer (type)                    Output Shape                  Param #     \n",
      "===========================================================================\n",
      " conv2d_2 (Conv2D)               (None, 24, 24, 50)            1300        \n",
      "                                                                           \n",
      " max_pooling2d_2 (MaxPooling2D)  (None, 12, 12, 50)            0           \n",
      "                                                                           \n",
      " conv2d_3 (Conv2D)               (None, 10, 10, 50)            22550       \n",
      "                                                                           \n",
      " max_pooling2d_3 (MaxPooling2D)  (None, 5, 5, 50)              0           \n",
      "                                                                           \n",
      " flatten_1 (Flatten)             (None, 1250)                  0           \n",
      "                                                                           \n",
      " dense_1 (Dense)                 (None, 10)                    12510       \n",
      "                                                                           \n",
      "===========================================================================\n",
      "Total params: 36,360\n",
      "Trainable params: 36,360\n",
      "Non-trainable params: 0\n",
      "___________________________________________________________________________\n"
     ]
    }
   ],
   "source": [
    "con_model.summary(line_length=75)"
   ]
  },
  {
   "cell_type": "code",
   "execution_count": 20,
   "id": "09e085b9-d964-4cac-9b97-d3b528e5b169",
   "metadata": {},
   "outputs": [],
   "source": [
    "loss = tf.keras.losses.SparseCategoricalCrossentropy(from_logits=True)"
   ]
  },
  {
   "cell_type": "code",
   "execution_count": 21,
   "id": "3dea320e-fa6d-474c-bb3c-39f80a50acbe",
   "metadata": {},
   "outputs": [],
   "source": [
    "con_model.compile(optimizer='adam',loss=loss,metrics=['accuracy'])\n",
    "early_stopping = tf.keras.callbacks.EarlyStopping(monitor='val_loss',mode='auto',min_delta=0,patience = 2,verbose=0,restore_best_weights=True)"
   ]
  },
  {
   "cell_type": "code",
   "execution_count": 22,
   "id": "8b675943-c073-450f-8472-039432bab4c2",
   "metadata": {},
   "outputs": [
    {
     "name": "stdout",
     "output_type": "stream",
     "text": [
      "Epoch 1/20\n",
      "422/422 - 43s - loss: 0.2655 - accuracy: 0.9240 - val_loss: 0.0935 - val_accuracy: 0.9743 - 43s/epoch - 101ms/step\n",
      "Epoch 2/20\n",
      "422/422 - 31s - loss: 0.0693 - accuracy: 0.9791 - val_loss: 0.0664 - val_accuracy: 0.9808 - 31s/epoch - 74ms/step\n",
      "Epoch 3/20\n",
      "422/422 - 36s - loss: 0.0501 - accuracy: 0.9845 - val_loss: 0.0582 - val_accuracy: 0.9828 - 36s/epoch - 85ms/step\n",
      "Epoch 4/20\n",
      "422/422 - 38s - loss: 0.0397 - accuracy: 0.9880 - val_loss: 0.0541 - val_accuracy: 0.9838 - 38s/epoch - 91ms/step\n",
      "Epoch 5/20\n",
      "422/422 - 31s - loss: 0.0330 - accuracy: 0.9902 - val_loss: 0.0536 - val_accuracy: 0.9852 - 31s/epoch - 75ms/step\n",
      "Epoch 6/20\n",
      "422/422 - 29s - loss: 0.0278 - accuracy: 0.9917 - val_loss: 0.0532 - val_accuracy: 0.9858 - 29s/epoch - 69ms/step\n",
      "Epoch 7/20\n",
      "422/422 - 34s - loss: 0.0236 - accuracy: 0.9932 - val_loss: 0.0521 - val_accuracy: 0.9857 - 34s/epoch - 81ms/step\n",
      "Epoch 8/20\n",
      "422/422 - 35s - loss: 0.0204 - accuracy: 0.9940 - val_loss: 0.0525 - val_accuracy: 0.9862 - 35s/epoch - 83ms/step\n",
      "Epoch 9/20\n",
      "422/422 - 29s - loss: 0.0173 - accuracy: 0.9951 - val_loss: 0.0550 - val_accuracy: 0.9857 - 29s/epoch - 69ms/step\n"
     ]
    },
    {
     "data": {
      "text/plain": [
       "<keras.callbacks.History at 0x1afd16ba400>"
      ]
     },
     "execution_count": 22,
     "metadata": {},
     "output_type": "execute_result"
    }
   ],
   "source": [
    "con_model.fit(train_data,\n",
    "          epochs = num_epochs,\n",
    "          validation_data = validation_data,\n",
    "          verbose = 2,\n",
    "          callbacks = [early_stopping]\n",
    "         )"
   ]
  },
  {
   "cell_type": "code",
   "execution_count": 26,
   "id": "518f46e1-5dd7-4890-9da9-b8b710914f09",
   "metadata": {},
   "outputs": [
    {
     "name": "stdout",
     "output_type": "stream",
     "text": [
      "1/1 [==============================] - 2s 2s/step - loss: 0.0401 - accuracy: 0.9878\n",
      "Loss = 0.04 , accuracy = 98.78 %\n"
     ]
    }
   ],
   "source": [
    "test_loss,test_accuracy = con_model.evaluate(test_data)\n",
    "print(f\"Loss = {round(test_loss,2)} , accuracy = {round(test_accuracy*100,2)} %\")"
   ]
  },
  {
   "cell_type": "code",
   "execution_count": 27,
   "id": "cdc305df-d056-4a60-892c-b7d1fc818040",
   "metadata": {},
   "outputs": [],
   "source": [
    "import numpy as np\n",
    "import matplotlib.pyplot as plt"
   ]
  },
  {
   "cell_type": "code",
   "execution_count": 28,
   "id": "d2e1b934-f80b-47aa-a1e3-f53894026ed9",
   "metadata": {},
   "outputs": [],
   "source": [
    "# Split the test_data into 2 arrays, containing the images and the corresponding labels\n",
    "for images, labels in test_data.take(1):\n",
    "    images_test = images.numpy()\n",
    "    labels_test = labels.numpy()\n",
    "\n",
    "# Reshape the images into 28x28 form, suitable for matplotlib (original dimensions: 28x28x1)\n",
    "images_plot = np.reshape(images_test, (10000,28,28))"
   ]
  },
  {
   "cell_type": "code",
   "execution_count": 35,
   "id": "d3d8278c-f7ab-4e1e-96f8-dd6cd513fb76",
   "metadata": {},
   "outputs": [
    {
     "data": {
      "image/png": "[encoded data removed]",
      "text/plain": [
       "<Figure size 144x144 with 1 Axes>"
      ]
     },
     "metadata": {
      "needs_background": "light"
     },
     "output_type": "display_data"
    },
    {
     "name": "stdout",
     "output_type": "stream",
     "text": [
      "Label: 7\n"
     ]
    }
   ],
   "source": [
    "# The image to be displayed and tested\n",
    "i = 34\n",
    "\n",
    "\n",
    "# Plot the image\n",
    "plt.figure(figsize=(2, 2))\n",
    "plt.axis('off')\n",
    "plt.imshow(images_plot[i-1], cmap=\"gray\", aspect='auto')\n",
    "plt.show()\n",
    "\n",
    "# Print the correct label for the image\n",
    "print(\"Label: {}\".format(labels_test[i-1]))"
   ]
  },
  {
   "cell_type": "code",
   "execution_count": 36,
   "id": "b708cd96-0e6e-412a-a441-9f6e9e90bbc0",
   "metadata": {},
   "outputs": [
    {
     "data": {
      "text/plain": [
       "<BarContainer object of 10 artists>"
      ]
     },
     "execution_count": 36,
     "metadata": {},
     "output_type": "execute_result"
    },
    {
     "data": {
      "image/png": "[encoded data removed]",
      "text/plain": [
       "<Figure size 864x360 with 1 Axes>"
      ]
     },
     "metadata": {
      "needs_background": "light"
     },
     "output_type": "display_data"
    }
   ],
   "source": [
    "# Obtain the model's predictions (logits)\n",
    "predictions = con_model.predict(images_test[i-1:i])\n",
    "\n",
    "# Convert those predictions into probabilities (recall that we incorporated the softmaxt activation into the loss function)\n",
    "probabilities = tf.nn.softmax(predictions).numpy()\n",
    "# Convert the probabilities into percentages\n",
    "probabilities = probabilities*100\n",
    "\n",
    "\n",
    "# Create a bar chart to plot the probabilities for each class\n",
    "plt.figure(figsize=(12,5))\n",
    "plt.bar(x=[1,2,3,4,5,6,7,8,9,10], height=probabilities[0], tick_label=[\"0\",\"1\",\"2\",\"3\",\"4\",\"5\",\"6\",\"7\",\"8\",\"9\"])"
   ]
  },
  {
   "cell_type": "code",
   "execution_count": null,
   "id": "a336f8af-3b54-4b5a-98ae-666b88fa8394",
   "metadata": {},
   "outputs": [],
   "source": []
  }
 ],
 "metadata": {
  "kernelspec": {
   "display_name": "Python 3 (ipykernel)",
   "language": "python",
   "name": "python3"
  },
  "language_info": {
   "codemirror_mode": {
    "name": "ipython",
    "version": 3
   },
   "file_extension": ".py",
   "mimetype": "text/x-python",
   "name": "python",
   "nbconvert_exporter": "python",
   "pygments_lexer": "ipython3",
   "version": "3.8.12"
  }
 },
 "nbformat": 4,
 "nbformat_minor": 5
}
