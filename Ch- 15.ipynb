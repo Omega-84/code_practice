{
 "cells": [
  {
   "cell_type": "markdown",
   "id": "49829d50-bdce-4ff8-ab4d-fbfb7974a643",
   "metadata": {},
   "source": [
    "# Ch- 15 OOP"
   ]
  },
  {
   "cell_type": "code",
   "execution_count": 11,
   "id": "649acb0b-cc3e-4edc-9017-c4bd762ab29a",
   "metadata": {},
   "outputs": [],
   "source": [
    "class Point:\n",
    "    \"\"\"Represents a point in 2-D space\"\"\""
   ]
  },
  {
   "cell_type": "code",
   "execution_count": 12,
   "id": "48af5e73-b659-4c74-b278-1d965f9b7b68",
   "metadata": {},
   "outputs": [
    {
     "data": {
      "text/plain": [
       "__main__.Point"
      ]
     },
     "execution_count": 12,
     "metadata": {},
     "output_type": "execute_result"
    }
   ],
   "source": [
    "Point"
   ]
  },
  {
   "cell_type": "code",
   "execution_count": 13,
   "id": "f747a313-b69a-496a-baaa-f9db1dd74c1e",
   "metadata": {},
   "outputs": [],
   "source": [
    "a = Point()\n",
    "b = Point()"
   ]
  },
  {
   "cell_type": "code",
   "execution_count": 14,
   "id": "82a492d4-db5b-47cf-8eb6-fd3f05ac78d6",
   "metadata": {},
   "outputs": [],
   "source": [
    "a.x,a.y = 4,9\n",
    "b.x,b.y = 3,6"
   ]
  },
  {
   "cell_type": "code",
   "execution_count": 15,
   "id": "bbc4c173-2f43-465f-875c-6e7083531281",
   "metadata": {},
   "outputs": [],
   "source": [
    "import numpy as np\n",
    "import math"
   ]
  },
  {
   "cell_type": "code",
   "execution_count": 16,
   "id": "c94817bc-2be5-46e2-99fc-7ba5a0060e40",
   "metadata": {},
   "outputs": [],
   "source": [
    "def distance_between_points(p,q):\n",
    "    \"\"\"Returns the distance between 2 points in space\"\"\"\n",
    "    distance = np.sqrt((p.x-q.x)**2+(p.y-q.y)**2)\n",
    "    return distance"
   ]
  },
  {
   "cell_type": "code",
   "execution_count": 17,
   "id": "9b8da17d-f78c-40bb-a76f-d49347763065",
   "metadata": {},
   "outputs": [
    {
     "data": {
      "text/plain": [
       "3.1622776601683795"
      ]
     },
     "execution_count": 17,
     "metadata": {},
     "output_type": "execute_result"
    }
   ],
   "source": [
    "distance_between_points(a,b)"
   ]
  },
  {
   "cell_type": "code",
   "execution_count": 18,
   "id": "9a6f6c4e-86dc-4675-817a-ba2c870d9c25",
   "metadata": {},
   "outputs": [],
   "source": [
    "class Rectangle:\n",
    "    \"\"\"Represents a rectangle\n",
    "    \n",
    "    attributes : width,height,corner\"\"\""
   ]
  },
  {
   "cell_type": "code",
   "execution_count": 19,
   "id": "935cbde6-b8f0-4da6-ade9-5ca84cb36318",
   "metadata": {},
   "outputs": [],
   "source": [
    "rec_obj = Rectangle()"
   ]
  },
  {
   "cell_type": "code",
   "execution_count": 20,
   "id": "83c31def-805a-4108-8045-9057529608a1",
   "metadata": {},
   "outputs": [],
   "source": [
    "rec_obj.width = 100.0\n",
    "rec_obj.height = 200.0\n",
    "rec_obj.corner = Point()\n",
    "rec_obj.corner.x = 0.0\n",
    "rec_obj.corner.y = 0.0"
   ]
  },
  {
   "cell_type": "code",
   "execution_count": 21,
   "id": "daedb46f-0659-4724-ab2d-be2745ee4ab9",
   "metadata": {},
   "outputs": [],
   "source": [
    "def find_center(rect):\n",
    "    \"\"\"Returns the center of the rectangle\"\"\"\n",
    "    p = Point()\n",
    "    p.x = rec_obj.corner.x + rec_obj.width / 2\n",
    "    p.y = rec_obj.corner.y + rec_obj.height / 2\n",
    "    return p"
   ]
  },
  {
   "cell_type": "code",
   "execution_count": 23,
   "id": "03627537-26e3-42f9-ac0a-01192eef7512",
   "metadata": {},
   "outputs": [],
   "source": [
    "def print_point(p):\n",
    "    print(f\"({p.x},{p.y})\")"
   ]
  },
  {
   "cell_type": "code",
   "execution_count": 24,
   "id": "85fbbc0e-179a-4d68-ab4c-265b5413995f",
   "metadata": {},
   "outputs": [
    {
     "name": "stdout",
     "output_type": "stream",
     "text": [
      "(50.0,100.0)\n"
     ]
    }
   ],
   "source": [
    "print_point(find_center(rec_obj))"
   ]
  },
  {
   "cell_type": "code",
   "execution_count": 25,
   "id": "57c4908b-4740-480e-b0b7-88435243ae60",
   "metadata": {},
   "outputs": [],
   "source": [
    "def move_rectangle(box,dx,dy):\n",
    "    box.corner.x += dx\n",
    "    box.corner.y += dy"
   ]
  },
  {
   "cell_type": "code",
   "execution_count": 26,
   "id": "dbdd2f8c-f3ad-4d86-a43c-2fd0826b27aa",
   "metadata": {},
   "outputs": [],
   "source": [
    "move_rectangle(rec_obj,5,5)"
   ]
  },
  {
   "cell_type": "code",
   "execution_count": 29,
   "id": "e358bc7a-a5b6-4d5d-9cd5-2184e86041ea",
   "metadata": {},
   "outputs": [
    {
     "data": {
      "text/plain": [
       "5.0"
      ]
     },
     "execution_count": 29,
     "metadata": {},
     "output_type": "execute_result"
    }
   ],
   "source": [
    "rec_obj.corner.x"
   ]
  },
  {
   "cell_type": "code",
   "execution_count": 46,
   "id": "bf0beba1-94e1-4fb3-8952-25628b115bf3",
   "metadata": {},
   "outputs": [],
   "source": [
    "def move_rectangle_2(box,dx,dy):\n",
    "    new_box = Rectangle()\n",
    "    new_box.width = box.width\n",
    "    new_box.height = box.height\n",
    "    new_box.corner = Point()\n",
    "    new_box.corner.x = box.corner.x + dx\n",
    "    new_box.corner.y = box.corner.y + dy    \n",
    "    return new_box"
   ]
  },
  {
   "cell_type": "code",
   "execution_count": 47,
   "id": "37ed716b-a3bb-46b6-a284-9c86b2479963",
   "metadata": {},
   "outputs": [],
   "source": [
    "new_box = move_rectangle_2(rec_obj,10,10)"
   ]
  },
  {
   "cell_type": "code",
   "execution_count": 48,
   "id": "df23ce83-d16d-495d-bbbe-939ce1e8ede0",
   "metadata": {},
   "outputs": [
    {
     "data": {
      "text/plain": [
       "<__main__.Rectangle at 0x1ba7abd85b0>"
      ]
     },
     "execution_count": 48,
     "metadata": {},
     "output_type": "execute_result"
    }
   ],
   "source": [
    "new_box"
   ]
  },
  {
   "cell_type": "code",
   "execution_count": 49,
   "id": "5d281ac0-42ae-49e6-91ee-aa89ddd727c7",
   "metadata": {},
   "outputs": [
    {
     "data": {
      "text/plain": [
       "15.0"
      ]
     },
     "execution_count": 49,
     "metadata": {},
     "output_type": "execute_result"
    }
   ],
   "source": [
    "new_box.corner.y"
   ]
  },
  {
   "cell_type": "code",
   "execution_count": 50,
   "id": "a4a16b2c-7e0d-4f6a-9632-8b29ad1bf8f5",
   "metadata": {},
   "outputs": [
    {
     "data": {
      "text/plain": [
       "__main__.Rectangle"
      ]
     },
     "execution_count": 50,
     "metadata": {},
     "output_type": "execute_result"
    }
   ],
   "source": [
    "type(new_box)"
   ]
  },
  {
   "cell_type": "code",
   "execution_count": 53,
   "id": "5941ff84-11f9-4992-b630-52f5d0f1f22f",
   "metadata": {},
   "outputs": [
    {
     "data": {
      "text/plain": [
       "True"
      ]
     },
     "execution_count": 53,
     "metadata": {},
     "output_type": "execute_result"
    }
   ],
   "source": [
    "isinstance(new_box.corner,Point)"
   ]
  },
  {
   "cell_type": "code",
   "execution_count": 56,
   "id": "d9d3397b-9f6b-4f8d-abd9-3c947304a1cc",
   "metadata": {},
   "outputs": [
    {
     "data": {
      "text/plain": [
       "True"
      ]
     },
     "execution_count": 56,
     "metadata": {},
     "output_type": "execute_result"
    }
   ],
   "source": [
    "hasattr(new_box.corner,'y')"
   ]
  },
  {
   "cell_type": "markdown",
   "id": "3cec7fcc-cfae-4232-8063-51885e469ed7",
   "metadata": {},
   "source": [
    "# Q1"
   ]
  },
  {
   "cell_type": "code",
   "execution_count": 57,
   "id": "cb9ca383-3d2c-4350-97fa-a38c93940b93",
   "metadata": {},
   "outputs": [],
   "source": [
    "class Circle:\n",
    "    \"\"\"Represents a circle \n",
    "    \n",
    "    attributes: center and radius\n",
    "    \"\"\""
   ]
  },
  {
   "cell_type": "code",
   "execution_count": 58,
   "id": "a75b0883-6613-43d1-aefc-192a414f88b6",
   "metadata": {},
   "outputs": [],
   "source": [
    "cir = Circle()"
   ]
  },
  {
   "cell_type": "code",
   "execution_count": 59,
   "id": "91bcc883-7508-41a4-8666-ec113e2e9bb9",
   "metadata": {},
   "outputs": [],
   "source": [
    "cir.radius = 75.0\n",
    "cir.center = Point()\n",
    "cir.center.x = 150.0\n",
    "cir.center.y = 100.0"
   ]
  },
  {
   "cell_type": "code",
   "execution_count": 60,
   "id": "ba6ce49b-819f-4b32-b2dc-0e031c23f264",
   "metadata": {},
   "outputs": [],
   "source": [
    "def point_in_circle(point,circle):\n",
    "    \"\"\"Checks if a point is within the boundary of circle or not\"\"\"\n",
    "    d = distance_between_points(point,circle.center)\n",
    "    return d <= circle.radius"
   ]
  },
  {
   "cell_type": "code",
   "execution_count": 62,
   "id": "7d088268-2462-44e8-96b4-2b19a5ac7598",
   "metadata": {},
   "outputs": [],
   "source": [
    "p1 = Point()\n",
    "p1.x = 125.0\n",
    "p1.y = 200.0"
   ]
  },
  {
   "cell_type": "code",
   "execution_count": 63,
   "id": "02f93409-d0ca-46a6-affa-856ccca00ae5",
   "metadata": {},
   "outputs": [
    {
     "data": {
      "text/plain": [
       "False"
      ]
     },
     "execution_count": 63,
     "metadata": {},
     "output_type": "execute_result"
    }
   ],
   "source": [
    "point_in_circle(p1,cir)"
   ]
  },
  {
   "cell_type": "code",
   "execution_count": 64,
   "id": "4ecd6498-050e-41f7-a6d7-53e70554b4e7",
   "metadata": {},
   "outputs": [],
   "source": [
    "import copy"
   ]
  },
  {
   "cell_type": "code",
   "execution_count": 66,
   "id": "b82c70d2-c4d4-4176-9af9-673b9ee1d42d",
   "metadata": {},
   "outputs": [],
   "source": [
    "def rect_in_circle(rect,circle):\n",
    "    \"\"\"Checks if a rectangle lies inside a circle or not\n",
    "    \n",
    "    If all four corners of the rectangle are less than radius units away from the center of the circle \n",
    "    \"\"\"\n",
    "    p = copy.copy(rect.corner)\n",
    "    if not point_in_circle(p, circle):\n",
    "        return False\n",
    "    \n",
    "    p.x += rect.width\n",
    "    if not point_in_circle(p,circle):\n",
    "        return False\n",
    "    \n",
    "    p.y -= rect.height\n",
    "    if not point_in_circle(p,circle):\n",
    "        return False\n",
    "    \n",
    "    p.x -= rect.width\n",
    "    if not point_in_circle(p,circle):\n",
    "        return False\n",
    "    \n",
    "    return True   "
   ]
  },
  {
   "cell_type": "code",
   "execution_count": 68,
   "id": "7b8bafbc-58cf-42bf-9873-027b3718b4cd",
   "metadata": {},
   "outputs": [
    {
     "data": {
      "text/plain": [
       "False"
      ]
     },
     "execution_count": 68,
     "metadata": {},
     "output_type": "execute_result"
    }
   ],
   "source": [
    "rect_in_circle(new_box,cir)"
   ]
  },
  {
   "cell_type": "code",
   "execution_count": 69,
   "id": "84a88246-acb3-42e7-9b2c-20bb97d69bfc",
   "metadata": {},
   "outputs": [],
   "source": [
    "def rect_overlap_circle(rect,circle):\n",
    "    \"\"\"Checks if a rectangle corners lie on a circle or not\n",
    "    \"\"\"\n",
    "    p = copy.copy(rect.corner)\n",
    "    if point_in_circle(p, circle):\n",
    "        return True\n",
    "    \n",
    "    p.x += rect.width\n",
    "    if point_in_circle(p,circle):\n",
    "        return True\n",
    "    \n",
    "    p.y -= rect.height\n",
    "    if point_in_circle(p,circle):\n",
    "        return True\n",
    "    \n",
    "    p.x -= rect.width\n",
    "    if point_in_circle(p,circle):\n",
    "        return True\n",
    "    \n",
    "    return False   "
   ]
  },
  {
   "cell_type": "code",
   "execution_count": 70,
   "id": "9cff89ee-72dd-42c5-88d5-5de064603dbf",
   "metadata": {},
   "outputs": [
    {
     "data": {
      "text/plain": [
       "False"
      ]
     },
     "execution_count": 70,
     "metadata": {},
     "output_type": "execute_result"
    }
   ],
   "source": [
    "rect_overlap_circle(new_box,cir)"
   ]
  }
 ],
 "metadata": {
  "kernelspec": {
   "display_name": "Python 3 (ipykernel)",
   "language": "python",
   "name": "python3"
  },
  "language_info": {
   "codemirror_mode": {
    "name": "ipython",
    "version": 3
   },
   "file_extension": ".py",
   "mimetype": "text/x-python",
   "name": "python",
   "nbconvert_exporter": "python",
   "pygments_lexer": "ipython3",
   "version": "3.8.12"
  }
 },
 "nbformat": 4,
 "nbformat_minor": 5
}
