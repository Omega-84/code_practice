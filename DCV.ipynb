{
 "cells": [
  {
   "cell_type": "code",
   "execution_count": 1,
   "id": "8770631e-ab4f-4d2f-b26f-9af327b2c28e",
   "metadata": {},
   "outputs": [],
   "source": [
    "import tensorflow as tf\n",
    "import tensorflow_datasets as tfds\n",
    "from keras.preprocessing import image\n",
    "from keras.preprocessing.image import ImageDataGenerator\n",
    "import numpy as np\n",
    "from PIL import Image\n",
    "from tensorflow.keras import datasets\n",
    "import matplotlib.pyplot as plt\n",
    "import warnings\n",
    "warnings.filterwarnings(\"ignore\")\n",
    "plt.style.use('ggplot')\n",
    "%matplotlib inline "
   ]
  },
  {
   "cell_type": "code",
   "execution_count": null,
   "id": "445e9f4a-c057-46fe-abce-74c4a122d9b1",
   "metadata": {},
   "outputs": [],
   "source": [
    "(train_images, train_labels), (test_images, test_labels) = datasets.cifar10.load_data()"
   ]
  },
  {
   "cell_type": "code",
   "execution_count": null,
   "id": "79fb639c-28bc-41f8-97a3-62161d9cf94b",
   "metadata": {},
   "outputs": [],
   "source": [
    "train_images, test_images = train_images / 255.0, test_images / 255.0\n",
    "class_names = ['airplane', 'automobile', 'bird', 'cat', 'deer',\n",
    "               'dog', 'frog', 'horse', 'ship', 'truck']"
   ]
  },
  {
   "cell_type": "code",
   "execution_count": null,
   "id": "bc97922f-9731-4b89-b46e-406213e822e1",
   "metadata": {},
   "outputs": [],
   "source": [
    "IMG_INDEX = 5\n",
    "plt.imshow(train_images[IMG_INDEX] ,cmap=plt.cm.binary)\n",
    "plt.xlabel(class_names[train_labels[IMG_INDEX][0]])\n",
    "plt.show()"
   ]
  },
  {
   "cell_type": "code",
   "execution_count": null,
   "id": "8eb81b6a-c9ee-41e5-a0f6-ab85e4e92f45",
   "metadata": {},
   "outputs": [],
   "source": [
    "# define a function to build the keras model\n",
    "def create_model():\n",
    "  \n",
    "    model = tf.keras.Sequential()\n",
    "    model.add(tf.keras.layers.Conv2D(32,(3,3),activation='relu',input_shape=(32, 32, 3)))\n",
    "    model.add(tf.keras.layers.MaxPooling2D((2,2)))\n",
    "    model.add(tf.keras.layers.Conv2D(64,(3,3),activation='relu'))\n",
    "    model.add(tf.keras.layers.MaxPooling2D((2,2)))\n",
    "    model.add(tf.keras.layers.Conv2D(64,(3,3),activation='relu'))\n",
    "    model.add(tf.keras.layers.Flatten())\n",
    "    model.add(tf.keras.layers.Dense(64, activation='relu'))\n",
    "    model.add(tf.keras.layers.Dense(10))\n",
    "    \n",
    "    model.compile(loss=tf.keras.losses.SparseCategoricalCrossentropy(from_logits=True), optimizer='adam', metrics=['accuracy'])   \n",
    "    return model\n",
    "\n",
    "model = create_model()\n",
    "\n",
    "print(model.summary())"
   ]
  },
  {
   "cell_type": "code",
   "execution_count": null,
   "id": "01ef64e6-50f6-46a5-91f4-5bba7d87bb44",
   "metadata": {},
   "outputs": [],
   "source": [
    "history = model.fit(train_images, train_labels,validation_data=(test_images, test_labels), epochs=10,batch_size=10)"
   ]
  },
  {
   "cell_type": "code",
   "execution_count": null,
   "id": "080506d0-5577-4458-ba6a-3866f1f32a45",
   "metadata": {},
   "outputs": [],
   "source": [
    "test_loss, test_acc = model.evaluate(test_images,  test_labels, verbose=2)\n",
    "print(test_acc)"
   ]
  },
  {
   "cell_type": "code",
   "execution_count": null,
   "id": "73d46d53-509d-4b8d-b602-c56d1d046317",
   "metadata": {},
   "outputs": [],
   "source": [
    "plt.subplots(figsize=(14,6))\n",
    "plt.plot(history.history['loss'],label='training')\n",
    "plt.plot(history.history['val_loss'],label='testing')\n",
    "plt.legend(loc='best',fontsize=12);"
   ]
  },
  {
   "cell_type": "code",
   "execution_count": null,
   "id": "45641667-498a-43dc-8129-225d424903d1",
   "metadata": {},
   "outputs": [],
   "source": [
    "plt.subplots(figsize=(14,6))\n",
    "plt.plot(history.history['accuracy'],label='training')\n",
    "plt.plot(history.history['val_accuracy'],label='testing')\n",
    "plt.legend(loc='best',fontsize=12);"
   ]
  },
  {
   "cell_type": "code",
   "execution_count": null,
   "id": "0d480f17-140a-4b15-a2e0-b09d76477d8d",
   "metadata": {},
   "outputs": [],
   "source": [
    "datagen = ImageDataGenerator(\n",
    "rotation_range=40,\n",
    "width_shift_range=0.2,\n",
    "height_shift_range=0.2,\n",
    "shear_range=0.2,\n",
    "zoom_range=0.2,\n",
    "horizontal_flip=True,\n",
    "fill_mode='nearest')\n",
    "\n",
    "test_img = train_images[21]\n",
    "img = image.img_to_array(test_img)  \n",
    "img = img.reshape((1,) + img.shape)  \n",
    "\n",
    "i = 0\n",
    "\n",
    "for batch in datagen.flow(img, save_prefix='test', save_format='jpeg'):  \n",
    "    plt.figure(i)\n",
    "    plot = plt.imshow(image.img_to_array(batch[0]))\n",
    "    i += 1\n",
    "    if i > 4:  \n",
    "        break\n",
    "print(class_names[train_labels[21][0]])"
   ]
  },
  {
   "cell_type": "markdown",
   "id": "c35db2f5-ac24-4e59-b452-daf4d3dd3f6b",
   "metadata": {},
   "source": [
    "# Transfer learning"
   ]
  },
  {
   "cell_type": "code",
   "execution_count": null,
   "id": "393f8347-8565-4d88-900d-e01ab153e5d3",
   "metadata": {},
   "outputs": [],
   "source": [
    "(raw_train,raw_test), metadata = tfds.load(\n",
    "    'cifar10',\n",
    "    split=['train[:90%]', 'train[90%:]'],\n",
    "    with_info=True,\n",
    "    as_supervised=True,\n",
    ")"
   ]
  },
  {
   "cell_type": "code",
   "execution_count": null,
   "id": "74b3f03f-98d0-45f1-95b3-6d9e3e7c121d",
   "metadata": {},
   "outputs": [],
   "source": [
    "def format_example(image, label):\n",
    "    \"\"\"\n",
    "    returns an image that is reshaped to IMG_SIZE\n",
    "    \"\"\"\n",
    "    IMG_SIZE = 224\n",
    "    image = tf.cast(image, tf.float32)\n",
    "    image = (image/127.5) - 1\n",
    "    image = tf.image.resize(image, (IMG_SIZE, IMG_SIZE))\n",
    "    return image, label"
   ]
  },
  {
   "cell_type": "code",
   "execution_count": null,
   "id": "32a537fa-4f0c-4024-b8a9-98763e396b7b",
   "metadata": {},
   "outputs": [],
   "source": [
    "train = raw_train.map(format_example)\n",
    "test = raw_test.map(format_example)"
   ]
  },
  {
   "cell_type": "code",
   "execution_count": null,
   "id": "d6e5c95e-594b-43d2-b2cc-0c3c8c589f35",
   "metadata": {},
   "outputs": [],
   "source": [
    "BATCH_SIZE = 32\n",
    "SHUFFLE_BUFFER_SIZE = 1000\n",
    "\n",
    "train_batches = train.shuffle(SHUFFLE_BUFFER_SIZE).batch(BATCH_SIZE)\n",
    "test_batches = test.batch(BATCH_SIZE)"
   ]
  },
  {
   "cell_type": "code",
   "execution_count": null,
   "id": "d36474e0-5f48-4dbe-9504-f5856ae23797",
   "metadata": {},
   "outputs": [],
   "source": [
    "IMAGE_SIZE = [224, 224]\n",
    "base_model = tf.keras.applications.VGG16(input_shape=IMAGE_SIZE + [3],\n",
    "                                               include_top=False,\n",
    "                                               weights='imagenet')"
   ]
  },
  {
   "cell_type": "code",
   "execution_count": null,
   "id": "799f668c-e162-4fd4-b09d-e4e63d53010d",
   "metadata": {},
   "outputs": [],
   "source": [
    "base_model.trainable = False"
   ]
  },
  {
   "cell_type": "code",
   "execution_count": null,
   "id": "ddad40cd-29ba-4ee1-a82e-c8ad9fc39433",
   "metadata": {},
   "outputs": [],
   "source": [
    "base_model.summary()"
   ]
  },
  {
   "cell_type": "code",
   "execution_count": null,
   "id": "714b763b-5fb7-4c71-bd65-396731242709",
   "metadata": {},
   "outputs": [],
   "source": [
    "for image, _ in train_batches.take(1):\n",
    "    pass\n",
    "\n",
    "feature_batch = base_model(image)\n",
    "print(feature_batch.shape)"
   ]
  },
  {
   "cell_type": "code",
   "execution_count": null,
   "id": "16e4f8f9-a884-4d0f-811b-217692bf2103",
   "metadata": {},
   "outputs": [],
   "source": [
    "global_average_layer = tf.keras.layers.GlobalAveragePooling2D()"
   ]
  },
  {
   "cell_type": "code",
   "execution_count": null,
   "id": "b17ebf78-d1b7-4542-9076-5f1aa088c95b",
   "metadata": {},
   "outputs": [],
   "source": [
    "prediction_layer = tf.keras.layers.Dense(10)"
   ]
  },
  {
   "cell_type": "markdown",
   "id": "299c91bf-b051-458f-83cb-876bb9e86f76",
   "metadata": {},
   "source": [
    "for augmentation\n",
    "tf.keras.Input(shape=(224, 224, 3)),\n",
    "    tf.keras.layers.RandomFlip('horizontal_and_vertical'),\n",
    "    tf.keras.layers.RandomRotation(0.2),"
   ]
  },
  {
   "cell_type": "code",
   "execution_count": null,
   "id": "bb1721f7-8f1e-46f1-91a0-889f2dcc7c36",
   "metadata": {},
   "outputs": [],
   "source": [
    "model = tf.keras.Sequential([\n",
    "    \n",
    "    base_model,\n",
    "    tf.keras.layers.Dropout(0.2),\n",
    "    global_average_layer,\n",
    "    prediction_layer\n",
    "])"
   ]
  },
  {
   "cell_type": "code",
   "execution_count": null,
   "id": "2793027a-57d8-494c-a2d2-508388bce78b",
   "metadata": {},
   "outputs": [],
   "source": [
    "model.compile(loss=tf.keras.losses.SparseCategoricalCrossentropy(from_logits=True), optimizer='adam', metrics=['accuracy'])"
   ]
  },
  {
   "cell_type": "code",
   "execution_count": null,
   "id": "a3b841a6-0d1e-403e-a670-cd792baa0829",
   "metadata": {},
   "outputs": [],
   "source": [
    "model.summary()"
   ]
  },
  {
   "cell_type": "code",
   "execution_count": null,
   "id": "9c01f20d-7213-4521-aa9b-af28b85e6d85",
   "metadata": {},
   "outputs": [],
   "source": [
    "early_stopping = tf.keras.callbacks.EarlyStopping(patience = 2)"
   ]
  },
  {
   "cell_type": "code",
   "execution_count": null,
   "id": "f6597bc9-5d38-4700-848d-9f12e3e26439",
   "metadata": {},
   "outputs": [],
   "source": [
    "network = model.fit(train_batches,\n",
    "                    epochs=10,\n",
    "                    validation_data=test_batches,callbacks = [early_stopping])"
   ]
  },
  {
   "cell_type": "markdown",
   "id": "ac18c068-d057-4644-b646-fd8a703102c9",
   "metadata": {},
   "source": [
    "# Ignore"
   ]
  },
  {
   "cell_type": "code",
   "execution_count": null,
   "id": "750e490c-84a1-4b3c-ba2b-4b7be46e5ace",
   "metadata": {},
   "outputs": [],
   "source": [
    "base_model = tf.keras.applications.VGG16(input_shape=IMG_SHAPE,\n",
    "                                               include_top=False,\n",
    "                                               weights='imagenet')"
   ]
  },
  {
   "cell_type": "code",
   "execution_count": null,
   "id": "8d124664-6b63-46fd-ac8a-8d85be0a5114",
   "metadata": {},
   "outputs": [],
   "source": [
    "base_model.summary()"
   ]
  },
  {
   "cell_type": "code",
   "execution_count": null,
   "id": "4c349531-917b-4a8e-88c4-6e72af8b5db0",
   "metadata": {},
   "outputs": [],
   "source": [
    "base_model.trainable = False"
   ]
  },
  {
   "cell_type": "code",
   "execution_count": null,
   "id": "f0d9007a-53a7-4e5c-85e0-30d3b4e570c0",
   "metadata": {},
   "outputs": [],
   "source": [
    "base_model.summary()"
   ]
  },
  {
   "cell_type": "code",
   "execution_count": null,
   "id": "6ce65fbf-aa98-4ec4-8bb8-a530bad753bf",
   "metadata": {},
   "outputs": [],
   "source": [
    "(train_images, train_labels), (test_images, test_labels) = datasets.cifar10.load_data()"
   ]
  },
  {
   "cell_type": "code",
   "execution_count": null,
   "id": "13db9b1a-b6f2-43c3-b160-b6a6992484d1",
   "metadata": {},
   "outputs": [],
   "source": [
    "def format_example(image):\n",
    "    IMG_SIZE = 224\n",
    "    image = tf.cast(image, tf.float32)\n",
    "    image = (image/127.5) - 1\n",
    "    image = tf.image.resize(image, (IMG_SIZE, IMG_SIZE))\n",
    "    return image, label"
   ]
  },
  {
   "cell_type": "code",
   "execution_count": null,
   "id": "abeada3d-93fa-4ec0-9b79-8e1a391e06e1",
   "metadata": {},
   "outputs": [],
   "source": [
    "train_images = train_images.map(format_example)\n",
    "test_images = test_images.map(format_example)"
   ]
  },
  {
   "cell_type": "code",
   "execution_count": null,
   "id": "cf1c0b88-8903-46c5-bbf0-ec3dee5651e7",
   "metadata": {},
   "outputs": [],
   "source": [
    "def format_example(image):\n",
    "    IMG_SIZE = 224\n",
    "    image = Image.fromarray(image, 'RGB')\n",
    "    image = tf.cast(image, tf.float32)\n",
    "    image = (image/127.5) - 1\n",
    "    image = tf.image.resize(image, (IMG_SIZE, IMG_SIZE))\n",
    "    return image"
   ]
  },
  {
   "cell_type": "code",
   "execution_count": null,
   "id": "e5c5fc6e-a12b-4513-a30f-6637f443ef6e",
   "metadata": {},
   "outputs": [],
   "source": [
    "type(test_images[10])"
   ]
  },
  {
   "cell_type": "code",
   "execution_count": null,
   "id": "5a10ebcc-1f66-4213-a87f-56b86f074f5f",
   "metadata": {},
   "outputs": [],
   "source": [
    "tmg = Image.fromarray(test_images[10], 'RGB')\n",
    "tmg\n",
    "image = tf.cast(test_images[10], tf.float32)"
   ]
  },
  {
   "cell_type": "code",
   "execution_count": null,
   "id": "78b204e0-084c-4e9a-9c0c-475cd6888df4",
   "metadata": {},
   "outputs": [],
   "source": [
    "tmg"
   ]
  },
  {
   "cell_type": "code",
   "execution_count": null,
   "id": "0c2d9cba-11ba-4547-b1a7-2c010e218799",
   "metadata": {},
   "outputs": [],
   "source": [
    "Image.fromarray(np.array(image), 'RGB')"
   ]
  },
  {
   "cell_type": "code",
   "execution_count": null,
   "id": "3ccdbd37-f840-4e4d-850b-88bfea115891",
   "metadata": {},
   "outputs": [],
   "source": [
    "img = Image.fromarray(np.array(tf.image.convert_image_dtype(test_images[10], dtype=tf.float32)), 'RGB')\n",
    "img.show()"
   ]
  },
  {
   "cell_type": "code",
   "execution_count": null,
   "id": "f8d541c3-4a3a-4134-b685-887537d236cc",
   "metadata": {},
   "outputs": [],
   "source": [
    "image = tf.image.convert_image_dtype(test_images[10], dtype=tf.float32)"
   ]
  },
  {
   "cell_type": "code",
   "execution_count": null,
   "id": "233ddfa0-e640-4d7f-b044-2541e8b602ea",
   "metadata": {},
   "outputs": [],
   "source": [
    "image = (image/127.5) - 1\n",
    "image = tf.image.resize(image, (224, 224))"
   ]
  },
  {
   "cell_type": "code",
   "execution_count": null,
   "id": "7e64ba67-e32c-4be4-809a-87593d194164",
   "metadata": {},
   "outputs": [],
   "source": [
    "Image.fromarray(np.array(image),'RGB')"
   ]
  },
  {
   "cell_type": "code",
   "execution_count": null,
   "id": "5ceeee14-2f84-4233-9857-a798b3ed3674",
   "metadata": {},
   "outputs": [],
   "source": [
    "image = tf.cast(test_images[100], tf.float32)"
   ]
  },
  {
   "cell_type": "code",
   "execution_count": null,
   "id": "e547ef2a-030f-4828-bdaa-05f5d4caae30",
   "metadata": {},
   "outputs": [],
   "source": [
    "image = (image/127.5) - 1\n",
    "image = tf.image.resize(image, (224, 224))"
   ]
  },
  {
   "cell_type": "code",
   "execution_count": null,
   "id": "c77f3080-b437-4863-be47-8b6491f3ce56",
   "metadata": {},
   "outputs": [],
   "source": [
    "Image.fromarray(np.array(image),'RGB')"
   ]
  },
  {
   "cell_type": "code",
   "execution_count": null,
   "id": "05606334-cdf3-42ca-bfc8-c3d1dd2f8602",
   "metadata": {},
   "outputs": [],
   "source": [
    "Image.fromarray(test_images[100], 'RGB')"
   ]
  },
  {
   "cell_type": "code",
   "execution_count": null,
   "id": "4b07fa98-5c6b-4419-b6bc-dab884bda6cf",
   "metadata": {},
   "outputs": [],
   "source": []
  }
 ],
 "metadata": {
  "kernelspec": {
   "display_name": "Python 3 (ipykernel)",
   "language": "python",
   "name": "python3"
  },
  "language_info": {
   "codemirror_mode": {
    "name": "ipython",
    "version": 3
   },
   "file_extension": ".py",
   "mimetype": "text/x-python",
   "name": "python",
   "nbconvert_exporter": "python",
   "pygments_lexer": "ipython3",
   "version": "3.8.12"
  }
 },
 "nbformat": 4,
 "nbformat_minor": 5
}
