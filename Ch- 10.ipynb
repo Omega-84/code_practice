{
 "cells": [
  {
   "cell_type": "markdown",
   "id": "25d450f9-3019-4ebc-9e28-73ccb55871db",
   "metadata": {},
   "source": [
    "# Q1"
   ]
  },
  {
   "cell_type": "code",
   "execution_count": 24,
   "id": "6bb5c2e2-2da6-4b15-930c-fa8fe7196d1a",
   "metadata": {},
   "outputs": [],
   "source": [
    "def nested_sum(lis):\n",
    "    sum = 0\n",
    "    for i in lis:\n",
    "        for j in i:\n",
    "            if type(j) in [int,float]:\n",
    "                sum += j\n",
    "    return sum"
   ]
  },
  {
   "cell_type": "code",
   "execution_count": 25,
   "id": "5efe9dcb-df43-4fa6-af3a-b726301dded2",
   "metadata": {},
   "outputs": [],
   "source": [
    "t = [[1,2],[3],[4,5,6]]"
   ]
  },
  {
   "cell_type": "code",
   "execution_count": 26,
   "id": "86975a59-0952-4466-89e8-2c4a71bfaeab",
   "metadata": {},
   "outputs": [
    {
     "data": {
      "text/plain": [
       "21"
      ]
     },
     "execution_count": 26,
     "metadata": {},
     "output_type": "execute_result"
    }
   ],
   "source": [
    "nested_sum(t)"
   ]
  },
  {
   "cell_type": "markdown",
   "id": "0494d0c6-1d26-4d6b-abba-1994761f2baa",
   "metadata": {},
   "source": [
    "# Q2"
   ]
  },
  {
   "cell_type": "code",
   "execution_count": 36,
   "id": "bcad6e48-69b1-4749-9a90-712188f3fc1b",
   "metadata": {},
   "outputs": [],
   "source": [
    "def cumsum(lis):\n",
    "    summ = 0\n",
    "    new_lis = []\n",
    "    for i in lis:\n",
    "        summ += i\n",
    "        new_lis.append(summ)\n",
    "    return new_lis"
   ]
  },
  {
   "cell_type": "code",
   "execution_count": 37,
   "id": "c21bb824-3659-4782-a770-9cad60f3db19",
   "metadata": {},
   "outputs": [
    {
     "data": {
      "text/plain": [
       "[1, 3, 6, 10]"
      ]
     },
     "execution_count": 37,
     "metadata": {},
     "output_type": "execute_result"
    }
   ],
   "source": [
    "cumsum([1,2,3,4])"
   ]
  },
  {
   "cell_type": "markdown",
   "id": "cea61ac8-d2dd-4b57-8ae4-e3c175f661cc",
   "metadata": {},
   "source": [
    "# Q3"
   ]
  },
  {
   "cell_type": "code",
   "execution_count": 38,
   "id": "314fc152-8e4c-42a2-b8f0-dd2fd4fb4f9f",
   "metadata": {},
   "outputs": [],
   "source": [
    "def middle(t):\n",
    "    return t[1:-1]"
   ]
  },
  {
   "cell_type": "code",
   "execution_count": 39,
   "id": "ae1bef70-80d6-4c94-bd1b-6fb212ffb027",
   "metadata": {},
   "outputs": [
    {
     "data": {
      "text/plain": [
       "[2, 3]"
      ]
     },
     "execution_count": 39,
     "metadata": {},
     "output_type": "execute_result"
    }
   ],
   "source": [
    "middle([1,2,3,4])"
   ]
  },
  {
   "cell_type": "markdown",
   "id": "d89203c0-661a-430c-ad72-240bfc31b937",
   "metadata": {},
   "source": [
    "# Q4"
   ]
  },
  {
   "cell_type": "code",
   "execution_count": 45,
   "id": "570700a3-2f78-4ee8-8951-a11009b8bd9f",
   "metadata": {},
   "outputs": [],
   "source": [
    "def is_sorted(t):\n",
    "    if t == sorted(t):\n",
    "        return True\n",
    "    else:\n",
    "        return False"
   ]
  },
  {
   "cell_type": "code",
   "execution_count": 46,
   "id": "9bb81d98-50d0-46aa-9f2c-e20a887c5662",
   "metadata": {},
   "outputs": [
    {
     "data": {
      "text/plain": [
       "True"
      ]
     },
     "execution_count": 46,
     "metadata": {},
     "output_type": "execute_result"
    }
   ],
   "source": [
    "is_sorted([1,2,3,4])"
   ]
  },
  {
   "cell_type": "markdown",
   "id": "233311df-8944-4563-b607-d35b96975cae",
   "metadata": {},
   "source": [
    "# Q9"
   ]
  },
  {
   "cell_type": "code",
   "execution_count": 1,
   "id": "7635bf7a-999c-4c21-8aa0-8fb7a5c6b1e7",
   "metadata": {},
   "outputs": [],
   "source": [
    "def wordlist1(file):\n",
    "    wordlist = []\n",
    "    for line in open(file):\n",
    "        word = line.strip()\n",
    "        wordlist.append(word)\n",
    "    return wordlist"
   ]
  },
  {
   "cell_type": "code",
   "execution_count": 2,
   "id": "a2b173a7-3424-4c82-87f9-5fe6d77c5581",
   "metadata": {},
   "outputs": [
    {
     "name": "stdout",
     "output_type": "stream",
     "text": [
      "33.4 ms ± 2.7 ms per loop (mean ± std. dev. of 7 runs, 10 loops each)\n"
     ]
    }
   ],
   "source": [
    "%timeit wordlist1('words.txt')"
   ]
  },
  {
   "cell_type": "markdown",
   "id": "7c249c06-dd6d-418e-b5da-1b94cd245a83",
   "metadata": {},
   "source": [
    "def wordlist2(file):\n",
    "    wordlist = []\n",
    "    for line in open(file):\n",
    "        word = line.strip()\n",
    "        wordlist += [word]\n",
    "    return wordlist"
   ]
  },
  {
   "cell_type": "markdown",
   "id": "a75f75fd-4659-4699-897c-a3b96d41c8a2",
   "metadata": {},
   "source": [
    "%timeit wordlist2('words.txt')"
   ]
  },
  {
   "cell_type": "markdown",
   "id": "ae7f1f65-a080-4999-9208-f1eb19ce988b",
   "metadata": {},
   "source": [
    "wordlist2('words.txt') == wordlist1('words.txt')"
   ]
  },
  {
   "cell_type": "markdown",
   "id": "0f605fd3-5244-4e24-8222-4bb0e199cdc2",
   "metadata": {},
   "source": [
    "# Q10"
   ]
  },
  {
   "cell_type": "code",
   "execution_count": 3,
   "id": "fdd92012-2ff1-461e-ad33-a8598895765f",
   "metadata": {},
   "outputs": [],
   "source": [
    "wordlist = wordlist1('words.txt')"
   ]
  },
  {
   "cell_type": "code",
   "execution_count": 26,
   "id": "fe1bdf82-3782-4929-b521-f4eb4af83441",
   "metadata": {},
   "outputs": [],
   "source": [
    "def in_bisect(word,listt):\n",
    "    listt_cop = listt.copy()\n",
    "    if len(listt) == 0 :\n",
    "        return False\n",
    "    mid = len(listt)//2\n",
    "    if listt[mid] == word:\n",
    "        return True\n",
    "    elif listt[mid] < word:\n",
    "        return in_bisect(word,listt[mid+1:])\n",
    "    elif listt[mid] > word:\n",
    "        return in_bisect(word,listt[:mid])"
   ]
  },
  {
   "cell_type": "code",
   "execution_count": 27,
   "id": "468dcc7c-deed-444d-ad5e-b38c87c96561",
   "metadata": {},
   "outputs": [
    {
     "data": {
      "text/plain": [
       "'aardvarks'"
      ]
     },
     "execution_count": 27,
     "metadata": {},
     "output_type": "execute_result"
    }
   ],
   "source": [
    "wordlist[10]"
   ]
  },
  {
   "cell_type": "code",
   "execution_count": 28,
   "id": "9cc85b03-6b0f-452e-971b-3453c1d02dd1",
   "metadata": {},
   "outputs": [
    {
     "data": {
      "text/plain": [
       "True"
      ]
     },
     "execution_count": 28,
     "metadata": {},
     "output_type": "execute_result"
    }
   ],
   "source": [
    "in_bisect('aahing',wordlist)"
   ]
  },
  {
   "cell_type": "code",
   "execution_count": 4,
   "id": "a866e901-a816-4093-a412-182d1fcd74d4",
   "metadata": {},
   "outputs": [],
   "source": [
    "def in_bisect1(word_list, word):\n",
    "    \"\"\"Checks whether a word is in a list using bisection search.\n",
    "    Precondition: the words in the list are sorted\n",
    "    word_list: list of strings\n",
    "    word: string\n",
    "    returns: True if the word is in the list; False otherwise\n",
    "    \"\"\"\n",
    "    if len(word_list) == 0:\n",
    "        return False\n",
    "\n",
    "    i = len(word_list) // 2\n",
    "    if word_list[i] == word:\n",
    "        return True\n",
    "\n",
    "    if word_list[i] > word:\n",
    "        # search the first half\n",
    "        return in_bisect1(word_list[:i], word)\n",
    "    else:\n",
    "        # search the second half\n",
    "        return in_bisect1(word_list[i+1:], word)\n"
   ]
  },
  {
   "cell_type": "code",
   "execution_count": 5,
   "id": "9fd4245b-cbdd-4dd1-9b11-0398be1b1439",
   "metadata": {},
   "outputs": [
    {
     "data": {
      "text/plain": [
       "True"
      ]
     },
     "execution_count": 5,
     "metadata": {},
     "output_type": "execute_result"
    }
   ],
   "source": [
    "in_bisect1(wordlist,'aardvarks')"
   ]
  },
  {
   "cell_type": "markdown",
   "id": "81bb3c0d-c389-41f2-bec4-f88a504f4425",
   "metadata": {},
   "source": [
    "# Q11"
   ]
  },
  {
   "cell_type": "code",
   "execution_count": 8,
   "id": "59fe62b1-04ce-48ae-9d0c-14fa07a79ac2",
   "metadata": {},
   "outputs": [],
   "source": [
    "reverse_list = []\n",
    "for i in wordlist:\n",
    "    if in_bisect1(wordlist,i[::-1]):\n",
    "        reverse_list.append((i,i[::-1]))"
   ]
  },
  {
   "cell_type": "markdown",
   "id": "9bd2a135-a34f-48bd-873b-27e6d5f75d4d",
   "metadata": {},
   "source": [
    "\n",
    "def reverse_pair(word_list, word):\n",
    "    \"\"\"Checks whether a reversed word appears in word_list.\n",
    "    word_list: list of strings\n",
    "    word: string\n",
    "    \"\"\"\n",
    "    rev_word = word[::-1]\n",
    "    return in_bisect1(word_list, rev_word)"
   ]
  },
  {
   "cell_type": "markdown",
   "id": "32b1d1b9-f00d-46fc-9b4f-51ef7155101d",
   "metadata": {},
   "source": [
    "for word in wordlist:\n",
    "    if reverse_pair(wordlist, word):\n",
    "        print(word, word[::-1])\n"
   ]
  },
  {
   "cell_type": "markdown",
   "id": "a1f6b2e8-5a1e-4a53-aa08-91d29854ec86",
   "metadata": {},
   "source": [
    "reverse_list"
   ]
  },
  {
   "cell_type": "code",
   "execution_count": null,
   "id": "748153ed-221d-4dfa-baa4-cfb8f0369164",
   "metadata": {},
   "outputs": [],
   "source": []
  }
 ],
 "metadata": {
  "kernelspec": {
   "display_name": "Python 3 (ipykernel)",
   "language": "python",
   "name": "python3"
  },
  "language_info": {
   "codemirror_mode": {
    "name": "ipython",
    "version": 3
   },
   "file_extension": ".py",
   "mimetype": "text/x-python",
   "name": "python",
   "nbconvert_exporter": "python",
   "pygments_lexer": "ipython3",
   "version": "3.9.6"
  }
 },
 "nbformat": 4,
 "nbformat_minor": 5
}
