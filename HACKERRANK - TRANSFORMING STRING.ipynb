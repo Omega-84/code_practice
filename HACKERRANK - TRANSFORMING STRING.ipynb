{
 "cells": [
  {
   "cell_type": "code",
   "execution_count": 2,
   "id": "b4ae2dae",
   "metadata": {},
   "outputs": [],
   "source": [
    "import numpy as np"
   ]
  },
  {
   "cell_type": "code",
   "execution_count": 51,
   "id": "be4b648e",
   "metadata": {},
   "outputs": [],
   "source": [
    "sentence = 'dsjnvjdsn u ufhe ouef oihfao ao uh ouheo fhaeo'"
   ]
  },
  {
   "cell_type": "code",
   "execution_count": 4,
   "id": "2c626922",
   "metadata": {},
   "outputs": [],
   "source": [
    "words = sentence.split(\" \")"
   ]
  },
  {
   "cell_type": "code",
   "execution_count": 5,
   "id": "633cf020",
   "metadata": {},
   "outputs": [
    {
     "name": "stdout",
     "output_type": "stream",
     "text": [
      "['a', 'bLuE', 'MoON']\n"
     ]
    }
   ],
   "source": [
    "print(words)"
   ]
  },
  {
   "cell_type": "code",
   "execution_count": 47,
   "id": "100b2bfd",
   "metadata": {},
   "outputs": [],
   "source": [
    "def transform_words(word):\n",
    "    lower_word = word.lower()\n",
    "    list_word = list(word)\n",
    "    lower_word_list = list(lower_word)\n",
    "    for i in range(1,len(lower_word_list)):\n",
    "        if lower_word_list[i-1] < lower_word_list[i]:\n",
    "            list_word[i] = list_word[i].upper()\n",
    "        elif lower_word_list[i-1] > lower_word_list[i]:\n",
    "            list_word[i] = list_word[i].lower()\n",
    "        else:\n",
    "            continue\n",
    "    final_word = \"\".join(list_word)\n",
    "            \n",
    "    \n",
    "    \n",
    "    return final_word"
   ]
  },
  {
   "cell_type": "code",
   "execution_count": 48,
   "id": "5c1bafe9",
   "metadata": {},
   "outputs": [],
   "source": [
    "def tranform_sentence(sent):\n",
    "    words_in_sentence = sent.split(\" \")\n",
    "    sentt = \"\"\n",
    "    for i in words_in_sentence:\n",
    "        sentt += transform_words(i) + \" \"\n",
    "    final_sentence = sentt[:-1]\n",
    "    return final_sentence"
   ]
  },
  {
   "cell_type": "code",
   "execution_count": 52,
   "id": "57ce10b7",
   "metadata": {
    "scrolled": true
   },
   "outputs": [
    {
     "data": {
      "text/plain": [
       "'dSjNVjdSn u ufHe oUeF oihfaO aO uh oUheO fHaEO'"
      ]
     },
     "execution_count": 52,
     "metadata": {},
     "output_type": "execute_result"
    }
   ],
   "source": [
    "tranform_sentence(sentence)"
   ]
  },
  {
   "cell_type": "code",
   "execution_count": 50,
   "id": "f17dc1e6",
   "metadata": {},
   "outputs": [
    {
     "name": "stdout",
     "output_type": "stream",
     "text": [
      "bLUe\n"
     ]
    }
   ],
   "source": [
    "print(transform_words('bLuE'))"
   ]
  },
  {
   "cell_type": "code",
   "execution_count": 25,
   "id": "20701a73",
   "metadata": {},
   "outputs": [
    {
     "name": "stdout",
     "output_type": "stream",
     "text": [
      "['b', 'l', 'u', 'e']\n",
      "['b', 'l', 'U', 'e']\n"
     ]
    }
   ],
   "source": [
    "tryy = list('blue')\n",
    "print(tryy)\n",
    "tryy[2] = tryy[2].upper()\n",
    "print(tryy)"
   ]
  },
  {
   "cell_type": "code",
   "execution_count": 31,
   "id": "86186b87",
   "metadata": {},
   "outputs": [
    {
     "name": "stdout",
     "output_type": "stream",
     "text": [
      "b l U e\n"
     ]
    }
   ],
   "source": [
    "print(\" \".join(tryy))"
   ]
  }
 ],
 "metadata": {
  "kernelspec": {
   "display_name": "Python 3",
   "language": "python",
   "name": "python3"
  },
  "language_info": {
   "codemirror_mode": {
    "name": "ipython",
    "version": 3
   },
   "file_extension": ".py",
   "mimetype": "text/x-python",
   "name": "python",
   "nbconvert_exporter": "python",
   "pygments_lexer": "ipython3",
   "version": "3.8.8"
  }
 },
 "nbformat": 4,
 "nbformat_minor": 5
}
